{
 "cells": [
  {
   "cell_type": "markdown",
   "id": "9bf3c019",
   "metadata": {},
   "source": [
    "# I301D Final Project: Fake News\n",
    "\n",
    "## Melanie Huynh, Alexander Imhoff, Isabel Yang, Ashley Yude"
   ]
  },
  {
   "cell_type": "markdown",
   "id": "22d5de4e",
   "metadata": {},
   "source": [
    "In our project, we will be looking through datasets containing both fake and real news. We want to find the correlation between the presence of certain words and whether or not the machine will tag the text as REAL or FAKE."
   ]
  },
  {
   "cell_type": "markdown",
   "id": "7b432083",
   "metadata": {},
   "source": [
    "## Data Cleaning\n",
    "\n",
    "### Looking into our data:\n",
    "First we will load our datasets into our Notebook as a PANDAS dataframe."
   ]
  },
  {
   "cell_type": "code",
   "execution_count": 126,
   "id": "67593ecd",
   "metadata": {
    "scrolled": true
   },
   "outputs": [],
   "source": [
    "import pandas as pd\n",
    "pd.options.mode.chained_assignment = None # mutes a trivial warning about PANDAS\n",
    "\n",
    "\n",
    "# fake_df only contains fake news\n",
    "fake_df = pd.read_csv('Fake.csv')\n",
    "\n",
    "# real_df only contains real news\n",
    "real_df = pd.read_csv('True.csv')\n",
    "\n",
    "# text_df has both true and fake news, but is labeled with a String\n",
    "text_df = pd.read_csv('fake_or_real_news.csv')\n",
    "\n",
    "# num_df has both true and fake news, but is labeled with an Integer\n",
    "num_df = pd.read_csv('perez-rosas-fakenews.csv')"
   ]
  },
  {
   "cell_type": "code",
   "execution_count": 127,
   "id": "6160bd83",
   "metadata": {},
   "outputs": [
    {
     "data": {
      "text/html": [
       "<div>\n",
       "<style scoped>\n",
       "    .dataframe tbody tr th:only-of-type {\n",
       "        vertical-align: middle;\n",
       "    }\n",
       "\n",
       "    .dataframe tbody tr th {\n",
       "        vertical-align: top;\n",
       "    }\n",
       "\n",
       "    .dataframe thead th {\n",
       "        text-align: right;\n",
       "    }\n",
       "</style>\n",
       "<table border=\"1\" class=\"dataframe\">\n",
       "  <thead>\n",
       "    <tr style=\"text-align: right;\">\n",
       "      <th></th>\n",
       "      <th>title</th>\n",
       "      <th>text</th>\n",
       "      <th>subject</th>\n",
       "      <th>date</th>\n",
       "    </tr>\n",
       "  </thead>\n",
       "  <tbody>\n",
       "    <tr>\n",
       "      <th>0</th>\n",
       "      <td>Donald Trump Sends Out Embarrassing New Year’...</td>\n",
       "      <td>Donald Trump just couldn t wish all Americans ...</td>\n",
       "      <td>News</td>\n",
       "      <td>December 31, 2017</td>\n",
       "    </tr>\n",
       "    <tr>\n",
       "      <th>1</th>\n",
       "      <td>Drunk Bragging Trump Staffer Started Russian ...</td>\n",
       "      <td>House Intelligence Committee Chairman Devin Nu...</td>\n",
       "      <td>News</td>\n",
       "      <td>December 31, 2017</td>\n",
       "    </tr>\n",
       "    <tr>\n",
       "      <th>2</th>\n",
       "      <td>Sheriff David Clarke Becomes An Internet Joke...</td>\n",
       "      <td>On Friday, it was revealed that former Milwauk...</td>\n",
       "      <td>News</td>\n",
       "      <td>December 30, 2017</td>\n",
       "    </tr>\n",
       "    <tr>\n",
       "      <th>3</th>\n",
       "      <td>Trump Is So Obsessed He Even Has Obama’s Name...</td>\n",
       "      <td>On Christmas day, Donald Trump announced that ...</td>\n",
       "      <td>News</td>\n",
       "      <td>December 29, 2017</td>\n",
       "    </tr>\n",
       "    <tr>\n",
       "      <th>4</th>\n",
       "      <td>Pope Francis Just Called Out Donald Trump Dur...</td>\n",
       "      <td>Pope Francis used his annual Christmas Day mes...</td>\n",
       "      <td>News</td>\n",
       "      <td>December 25, 2017</td>\n",
       "    </tr>\n",
       "  </tbody>\n",
       "</table>\n",
       "</div>"
      ],
      "text/plain": [
       "                                               title  \\\n",
       "0   Donald Trump Sends Out Embarrassing New Year’...   \n",
       "1   Drunk Bragging Trump Staffer Started Russian ...   \n",
       "2   Sheriff David Clarke Becomes An Internet Joke...   \n",
       "3   Trump Is So Obsessed He Even Has Obama’s Name...   \n",
       "4   Pope Francis Just Called Out Donald Trump Dur...   \n",
       "\n",
       "                                                text subject  \\\n",
       "0  Donald Trump just couldn t wish all Americans ...    News   \n",
       "1  House Intelligence Committee Chairman Devin Nu...    News   \n",
       "2  On Friday, it was revealed that former Milwauk...    News   \n",
       "3  On Christmas day, Donald Trump announced that ...    News   \n",
       "4  Pope Francis used his annual Christmas Day mes...    News   \n",
       "\n",
       "                date  \n",
       "0  December 31, 2017  \n",
       "1  December 31, 2017  \n",
       "2  December 30, 2017  \n",
       "3  December 29, 2017  \n",
       "4  December 25, 2017  "
      ]
     },
     "execution_count": 127,
     "metadata": {},
     "output_type": "execute_result"
    }
   ],
   "source": [
    "fake_df.head()"
   ]
  },
  {
   "cell_type": "code",
   "execution_count": 128,
   "id": "d5a0e7b7",
   "metadata": {},
   "outputs": [
    {
     "data": {
      "text/html": [
       "<div>\n",
       "<style scoped>\n",
       "    .dataframe tbody tr th:only-of-type {\n",
       "        vertical-align: middle;\n",
       "    }\n",
       "\n",
       "    .dataframe tbody tr th {\n",
       "        vertical-align: top;\n",
       "    }\n",
       "\n",
       "    .dataframe thead th {\n",
       "        text-align: right;\n",
       "    }\n",
       "</style>\n",
       "<table border=\"1\" class=\"dataframe\">\n",
       "  <thead>\n",
       "    <tr style=\"text-align: right;\">\n",
       "      <th></th>\n",
       "      <th>title</th>\n",
       "      <th>text</th>\n",
       "      <th>subject</th>\n",
       "      <th>date</th>\n",
       "    </tr>\n",
       "  </thead>\n",
       "  <tbody>\n",
       "    <tr>\n",
       "      <th>0</th>\n",
       "      <td>As U.S. budget fight looms, Republicans flip t...</td>\n",
       "      <td>WASHINGTON (Reuters) - The head of a conservat...</td>\n",
       "      <td>politicsNews</td>\n",
       "      <td>December 31, 2017</td>\n",
       "    </tr>\n",
       "    <tr>\n",
       "      <th>1</th>\n",
       "      <td>U.S. military to accept transgender recruits o...</td>\n",
       "      <td>WASHINGTON (Reuters) - Transgender people will...</td>\n",
       "      <td>politicsNews</td>\n",
       "      <td>December 29, 2017</td>\n",
       "    </tr>\n",
       "    <tr>\n",
       "      <th>2</th>\n",
       "      <td>Senior U.S. Republican senator: 'Let Mr. Muell...</td>\n",
       "      <td>WASHINGTON (Reuters) - The special counsel inv...</td>\n",
       "      <td>politicsNews</td>\n",
       "      <td>December 31, 2017</td>\n",
       "    </tr>\n",
       "    <tr>\n",
       "      <th>3</th>\n",
       "      <td>FBI Russia probe helped by Australian diplomat...</td>\n",
       "      <td>WASHINGTON (Reuters) - Trump campaign adviser ...</td>\n",
       "      <td>politicsNews</td>\n",
       "      <td>December 30, 2017</td>\n",
       "    </tr>\n",
       "    <tr>\n",
       "      <th>4</th>\n",
       "      <td>Trump wants Postal Service to charge 'much mor...</td>\n",
       "      <td>SEATTLE/WASHINGTON (Reuters) - President Donal...</td>\n",
       "      <td>politicsNews</td>\n",
       "      <td>December 29, 2017</td>\n",
       "    </tr>\n",
       "  </tbody>\n",
       "</table>\n",
       "</div>"
      ],
      "text/plain": [
       "                                               title  \\\n",
       "0  As U.S. budget fight looms, Republicans flip t...   \n",
       "1  U.S. military to accept transgender recruits o...   \n",
       "2  Senior U.S. Republican senator: 'Let Mr. Muell...   \n",
       "3  FBI Russia probe helped by Australian diplomat...   \n",
       "4  Trump wants Postal Service to charge 'much mor...   \n",
       "\n",
       "                                                text       subject  \\\n",
       "0  WASHINGTON (Reuters) - The head of a conservat...  politicsNews   \n",
       "1  WASHINGTON (Reuters) - Transgender people will...  politicsNews   \n",
       "2  WASHINGTON (Reuters) - The special counsel inv...  politicsNews   \n",
       "3  WASHINGTON (Reuters) - Trump campaign adviser ...  politicsNews   \n",
       "4  SEATTLE/WASHINGTON (Reuters) - President Donal...  politicsNews   \n",
       "\n",
       "                 date  \n",
       "0  December 31, 2017   \n",
       "1  December 29, 2017   \n",
       "2  December 31, 2017   \n",
       "3  December 30, 2017   \n",
       "4  December 29, 2017   "
      ]
     },
     "execution_count": 128,
     "metadata": {},
     "output_type": "execute_result"
    }
   ],
   "source": [
    "real_df.head()"
   ]
  },
  {
   "cell_type": "code",
   "execution_count": 129,
   "id": "c42e2114",
   "metadata": {},
   "outputs": [
    {
     "data": {
      "text/html": [
       "<div>\n",
       "<style scoped>\n",
       "    .dataframe tbody tr th:only-of-type {\n",
       "        vertical-align: middle;\n",
       "    }\n",
       "\n",
       "    .dataframe tbody tr th {\n",
       "        vertical-align: top;\n",
       "    }\n",
       "\n",
       "    .dataframe thead th {\n",
       "        text-align: right;\n",
       "    }\n",
       "</style>\n",
       "<table border=\"1\" class=\"dataframe\">\n",
       "  <thead>\n",
       "    <tr style=\"text-align: right;\">\n",
       "      <th></th>\n",
       "      <th>Unnamed: 0</th>\n",
       "      <th>title</th>\n",
       "      <th>text</th>\n",
       "      <th>label</th>\n",
       "    </tr>\n",
       "  </thead>\n",
       "  <tbody>\n",
       "    <tr>\n",
       "      <th>0</th>\n",
       "      <td>8476</td>\n",
       "      <td>You Can Smell Hillary’s Fear</td>\n",
       "      <td>Daniel Greenfield, a Shillman Journalism Fello...</td>\n",
       "      <td>FAKE</td>\n",
       "    </tr>\n",
       "    <tr>\n",
       "      <th>1</th>\n",
       "      <td>10294</td>\n",
       "      <td>Watch The Exact Moment Paul Ryan Committed Pol...</td>\n",
       "      <td>Google Pinterest Digg Linkedin Reddit Stumbleu...</td>\n",
       "      <td>FAKE</td>\n",
       "    </tr>\n",
       "    <tr>\n",
       "      <th>2</th>\n",
       "      <td>3608</td>\n",
       "      <td>Kerry to go to Paris in gesture of sympathy</td>\n",
       "      <td>U.S. Secretary of State John F. Kerry said Mon...</td>\n",
       "      <td>REAL</td>\n",
       "    </tr>\n",
       "    <tr>\n",
       "      <th>3</th>\n",
       "      <td>10142</td>\n",
       "      <td>Bernie supporters on Twitter erupt in anger ag...</td>\n",
       "      <td>— Kaydee King (@KaydeeKing) November 9, 2016 T...</td>\n",
       "      <td>FAKE</td>\n",
       "    </tr>\n",
       "    <tr>\n",
       "      <th>4</th>\n",
       "      <td>875</td>\n",
       "      <td>The Battle of New York: Why This Primary Matters</td>\n",
       "      <td>It's primary day in New York and front-runners...</td>\n",
       "      <td>REAL</td>\n",
       "    </tr>\n",
       "  </tbody>\n",
       "</table>\n",
       "</div>"
      ],
      "text/plain": [
       "   Unnamed: 0                                              title  \\\n",
       "0        8476                       You Can Smell Hillary’s Fear   \n",
       "1       10294  Watch The Exact Moment Paul Ryan Committed Pol...   \n",
       "2        3608        Kerry to go to Paris in gesture of sympathy   \n",
       "3       10142  Bernie supporters on Twitter erupt in anger ag...   \n",
       "4         875   The Battle of New York: Why This Primary Matters   \n",
       "\n",
       "                                                text label  \n",
       "0  Daniel Greenfield, a Shillman Journalism Fello...  FAKE  \n",
       "1  Google Pinterest Digg Linkedin Reddit Stumbleu...  FAKE  \n",
       "2  U.S. Secretary of State John F. Kerry said Mon...  REAL  \n",
       "3  — Kaydee King (@KaydeeKing) November 9, 2016 T...  FAKE  \n",
       "4  It's primary day in New York and front-runners...  REAL  "
      ]
     },
     "execution_count": 129,
     "metadata": {},
     "output_type": "execute_result"
    }
   ],
   "source": [
    "text_df.head()"
   ]
  },
  {
   "cell_type": "code",
   "execution_count": 130,
   "id": "75eee159",
   "metadata": {},
   "outputs": [
    {
     "data": {
      "text/html": [
       "<div>\n",
       "<style scoped>\n",
       "    .dataframe tbody tr th:only-of-type {\n",
       "        vertical-align: middle;\n",
       "    }\n",
       "\n",
       "    .dataframe tbody tr th {\n",
       "        vertical-align: top;\n",
       "    }\n",
       "\n",
       "    .dataframe thead th {\n",
       "        text-align: right;\n",
       "    }\n",
       "</style>\n",
       "<table border=\"1\" class=\"dataframe\">\n",
       "  <thead>\n",
       "    <tr style=\"text-align: right;\">\n",
       "      <th></th>\n",
       "      <th>Unnamed: 0</th>\n",
       "      <th>title</th>\n",
       "      <th>body</th>\n",
       "      <th>label</th>\n",
       "      <th>category</th>\n",
       "    </tr>\n",
       "  </thead>\n",
       "  <tbody>\n",
       "    <tr>\n",
       "      <th>0</th>\n",
       "      <td>0</td>\n",
       "      <td>Alex Jones Vindicated in \"Pizzagate\" Controversy</td>\n",
       "      <td>\"Alex Jones, purveyor of the independent inves...</td>\n",
       "      <td>1</td>\n",
       "      <td>biz</td>\n",
       "    </tr>\n",
       "    <tr>\n",
       "      <th>1</th>\n",
       "      <td>1</td>\n",
       "      <td>THE BIG DATA CONSPIRACY</td>\n",
       "      <td>Government and Silicon Valley are looking to e...</td>\n",
       "      <td>1</td>\n",
       "      <td>biz</td>\n",
       "    </tr>\n",
       "    <tr>\n",
       "      <th>2</th>\n",
       "      <td>2</td>\n",
       "      <td>California Surprisingly Lenient on Auto Emissi...</td>\n",
       "      <td>Setting Up Face-Off With Trump \"California's c...</td>\n",
       "      <td>1</td>\n",
       "      <td>biz</td>\n",
       "    </tr>\n",
       "    <tr>\n",
       "      <th>3</th>\n",
       "      <td>3</td>\n",
       "      <td>Mexicans Are Chomping at the Bit to Stop NAFTA...</td>\n",
       "      <td>Mexico has been unfairly gaining from NAFTA as...</td>\n",
       "      <td>1</td>\n",
       "      <td>biz</td>\n",
       "    </tr>\n",
       "    <tr>\n",
       "      <th>4</th>\n",
       "      <td>4</td>\n",
       "      <td>Breaking News: Snapchat to purchase Twitter fo...</td>\n",
       "      <td>Yahoo and AOL could be extremely popular over ...</td>\n",
       "      <td>1</td>\n",
       "      <td>biz</td>\n",
       "    </tr>\n",
       "  </tbody>\n",
       "</table>\n",
       "</div>"
      ],
      "text/plain": [
       "   Unnamed: 0                                              title  \\\n",
       "0           0   Alex Jones Vindicated in \"Pizzagate\" Controversy   \n",
       "1           1                            THE BIG DATA CONSPIRACY   \n",
       "2           2  California Surprisingly Lenient on Auto Emissi...   \n",
       "3           3  Mexicans Are Chomping at the Bit to Stop NAFTA...   \n",
       "4           4  Breaking News: Snapchat to purchase Twitter fo...   \n",
       "\n",
       "                                                body  label category  \n",
       "0  \"Alex Jones, purveyor of the independent inves...      1      biz  \n",
       "1  Government and Silicon Valley are looking to e...      1      biz  \n",
       "2  Setting Up Face-Off With Trump \"California's c...      1      biz  \n",
       "3  Mexico has been unfairly gaining from NAFTA as...      1      biz  \n",
       "4  Yahoo and AOL could be extremely popular over ...      1      biz  "
      ]
     },
     "execution_count": 130,
     "metadata": {},
     "output_type": "execute_result"
    }
   ],
   "source": [
    "num_df.head()"
   ]
  },
  {
   "cell_type": "markdown",
   "id": "b9f434b1",
   "metadata": {},
   "source": [
    "### Combining our dataframes:\n",
    "As seen above, we looked into the data from each source and observed that the formatting for all of them is a little different. Before we combine our dataframes and use it to train our model, we must clean up the dataframes and make sure all the columns match."
   ]
  },
  {
   "cell_type": "markdown",
   "id": "ae5b7f1c",
   "metadata": {},
   "source": [
    "We will start with fake_df and real_df and delete columns that are not present in the other two datasets."
   ]
  },
  {
   "cell_type": "code",
   "execution_count": 131,
   "id": "035a94ba",
   "metadata": {},
   "outputs": [],
   "source": [
    "fake_cleaned = fake_df[['title','text']]\n",
    "real_cleaned = real_df[['title','text']]"
   ]
  },
  {
   "cell_type": "markdown",
   "id": "065612af",
   "metadata": {},
   "source": [
    "After cleaning it up, we will then an Integer label that will identify all fake news as '1' and all real news as '0'.                              "
   ]
  },
  {
   "cell_type": "code",
   "execution_count": 132,
   "id": "6a7af92d",
   "metadata": {
    "scrolled": true
   },
   "outputs": [],
   "source": [
    "fake_cleaned = fake_cleaned.assign(label = 1)\n",
    "real_cleaned = real_cleaned.assign(label = 0)"
   ]
  },
  {
   "cell_type": "markdown",
   "id": "4df89cfe",
   "metadata": {},
   "source": [
    "Now we will clean up the other two data frames by deleting unnecessary columns, changing column names as needed, and making sure the label is an Integer. (Fake = 1, Real = 0)"
   ]
  },
  {
   "cell_type": "code",
   "execution_count": 133,
   "id": "a35a6818",
   "metadata": {},
   "outputs": [
    {
     "data": {
      "text/html": [
       "<div>\n",
       "<style scoped>\n",
       "    .dataframe tbody tr th:only-of-type {\n",
       "        vertical-align: middle;\n",
       "    }\n",
       "\n",
       "    .dataframe tbody tr th {\n",
       "        vertical-align: top;\n",
       "    }\n",
       "\n",
       "    .dataframe thead th {\n",
       "        text-align: right;\n",
       "    }\n",
       "</style>\n",
       "<table border=\"1\" class=\"dataframe\">\n",
       "  <thead>\n",
       "    <tr style=\"text-align: right;\">\n",
       "      <th></th>\n",
       "      <th>title</th>\n",
       "      <th>text</th>\n",
       "      <th>label</th>\n",
       "    </tr>\n",
       "  </thead>\n",
       "  <tbody>\n",
       "    <tr>\n",
       "      <th>0</th>\n",
       "      <td>You Can Smell Hillary’s Fear</td>\n",
       "      <td>Daniel Greenfield, a Shillman Journalism Fello...</td>\n",
       "      <td>1</td>\n",
       "    </tr>\n",
       "    <tr>\n",
       "      <th>1</th>\n",
       "      <td>Watch The Exact Moment Paul Ryan Committed Pol...</td>\n",
       "      <td>Google Pinterest Digg Linkedin Reddit Stumbleu...</td>\n",
       "      <td>1</td>\n",
       "    </tr>\n",
       "    <tr>\n",
       "      <th>2</th>\n",
       "      <td>Kerry to go to Paris in gesture of sympathy</td>\n",
       "      <td>U.S. Secretary of State John F. Kerry said Mon...</td>\n",
       "      <td>0</td>\n",
       "    </tr>\n",
       "    <tr>\n",
       "      <th>3</th>\n",
       "      <td>Bernie supporters on Twitter erupt in anger ag...</td>\n",
       "      <td>— Kaydee King (@KaydeeKing) November 9, 2016 T...</td>\n",
       "      <td>1</td>\n",
       "    </tr>\n",
       "    <tr>\n",
       "      <th>4</th>\n",
       "      <td>The Battle of New York: Why This Primary Matters</td>\n",
       "      <td>It's primary day in New York and front-runners...</td>\n",
       "      <td>0</td>\n",
       "    </tr>\n",
       "  </tbody>\n",
       "</table>\n",
       "</div>"
      ],
      "text/plain": [
       "                                               title  \\\n",
       "0                       You Can Smell Hillary’s Fear   \n",
       "1  Watch The Exact Moment Paul Ryan Committed Pol...   \n",
       "2        Kerry to go to Paris in gesture of sympathy   \n",
       "3  Bernie supporters on Twitter erupt in anger ag...   \n",
       "4   The Battle of New York: Why This Primary Matters   \n",
       "\n",
       "                                                text  label  \n",
       "0  Daniel Greenfield, a Shillman Journalism Fello...      1  \n",
       "1  Google Pinterest Digg Linkedin Reddit Stumbleu...      1  \n",
       "2  U.S. Secretary of State John F. Kerry said Mon...      0  \n",
       "3  — Kaydee King (@KaydeeKing) November 9, 2016 T...      1  \n",
       "4  It's primary day in New York and front-runners...      0  "
      ]
     },
     "execution_count": 133,
     "metadata": {},
     "output_type": "execute_result"
    }
   ],
   "source": [
    "# Deleting the 'Unnamed: 0' columns and the 'category column'\n",
    "num_cleaned = num_df[['title','body','label']]\n",
    "text_cleaned = text_df[['title','text','label']]\n",
    "\n",
    "# Renaming the 'body' column to be 'text'\n",
    "num_cleaned.rename(columns={\"body\":\"text\"}, inplace = True)\n",
    "num_cleaned.head()\n",
    "\n",
    "# Making 'label' in text_cleaned into a column of Integers\n",
    "text_cleaned[\"label\"] = (text_cleaned[\"label\"] == \"FAKE\") + 0 ## Use the binary coding for true/false.\n",
    "text_cleaned.head()"
   ]
  },
  {
   "cell_type": "code",
   "execution_count": 134,
   "id": "2d7feb6e",
   "metadata": {},
   "outputs": [
    {
     "data": {
      "text/html": [
       "<div>\n",
       "<style scoped>\n",
       "    .dataframe tbody tr th:only-of-type {\n",
       "        vertical-align: middle;\n",
       "    }\n",
       "\n",
       "    .dataframe tbody tr th {\n",
       "        vertical-align: top;\n",
       "    }\n",
       "\n",
       "    .dataframe thead th {\n",
       "        text-align: right;\n",
       "    }\n",
       "</style>\n",
       "<table border=\"1\" class=\"dataframe\">\n",
       "  <thead>\n",
       "    <tr style=\"text-align: right;\">\n",
       "      <th></th>\n",
       "      <th>title</th>\n",
       "      <th>text</th>\n",
       "      <th>label</th>\n",
       "    </tr>\n",
       "  </thead>\n",
       "  <tbody>\n",
       "    <tr>\n",
       "      <th>0</th>\n",
       "      <td>Alex Jones Vindicated in \"Pizzagate\" Controversy</td>\n",
       "      <td>\"Alex Jones, purveyor of the independent inves...</td>\n",
       "      <td>1</td>\n",
       "    </tr>\n",
       "    <tr>\n",
       "      <th>1</th>\n",
       "      <td>THE BIG DATA CONSPIRACY</td>\n",
       "      <td>Government and Silicon Valley are looking to e...</td>\n",
       "      <td>1</td>\n",
       "    </tr>\n",
       "    <tr>\n",
       "      <th>2</th>\n",
       "      <td>California Surprisingly Lenient on Auto Emissi...</td>\n",
       "      <td>Setting Up Face-Off With Trump \"California's c...</td>\n",
       "      <td>1</td>\n",
       "    </tr>\n",
       "    <tr>\n",
       "      <th>3</th>\n",
       "      <td>Mexicans Are Chomping at the Bit to Stop NAFTA...</td>\n",
       "      <td>Mexico has been unfairly gaining from NAFTA as...</td>\n",
       "      <td>1</td>\n",
       "    </tr>\n",
       "    <tr>\n",
       "      <th>4</th>\n",
       "      <td>Breaking News: Snapchat to purchase Twitter fo...</td>\n",
       "      <td>Yahoo and AOL could be extremely popular over ...</td>\n",
       "      <td>1</td>\n",
       "    </tr>\n",
       "  </tbody>\n",
       "</table>\n",
       "</div>"
      ],
      "text/plain": [
       "                                               title  \\\n",
       "0   Alex Jones Vindicated in \"Pizzagate\" Controversy   \n",
       "1                            THE BIG DATA CONSPIRACY   \n",
       "2  California Surprisingly Lenient on Auto Emissi...   \n",
       "3  Mexicans Are Chomping at the Bit to Stop NAFTA...   \n",
       "4  Breaking News: Snapchat to purchase Twitter fo...   \n",
       "\n",
       "                                                text  label  \n",
       "0  \"Alex Jones, purveyor of the independent inves...      1  \n",
       "1  Government and Silicon Valley are looking to e...      1  \n",
       "2  Setting Up Face-Off With Trump \"California's c...      1  \n",
       "3  Mexico has been unfairly gaining from NAFTA as...      1  \n",
       "4  Yahoo and AOL could be extremely popular over ...      1  "
      ]
     },
     "execution_count": 134,
     "metadata": {},
     "output_type": "execute_result"
    }
   ],
   "source": [
    "num_cleaned.head()"
   ]
  },
  {
   "cell_type": "markdown",
   "id": "8bea82ef",
   "metadata": {},
   "source": [
    "All the dataframes in our notebook now have the same columns. This means it is time to combine all of them into one sing dataframe"
   ]
  },
  {
   "cell_type": "code",
   "execution_count": 135,
   "id": "d68f30f5",
   "metadata": {},
   "outputs": [
    {
     "data": {
      "text/html": [
       "<div>\n",
       "<style scoped>\n",
       "    .dataframe tbody tr th:only-of-type {\n",
       "        vertical-align: middle;\n",
       "    }\n",
       "\n",
       "    .dataframe tbody tr th {\n",
       "        vertical-align: top;\n",
       "    }\n",
       "\n",
       "    .dataframe thead th {\n",
       "        text-align: right;\n",
       "    }\n",
       "</style>\n",
       "<table border=\"1\" class=\"dataframe\">\n",
       "  <thead>\n",
       "    <tr style=\"text-align: right;\">\n",
       "      <th></th>\n",
       "      <th>title</th>\n",
       "      <th>text</th>\n",
       "      <th>label</th>\n",
       "    </tr>\n",
       "  </thead>\n",
       "  <tbody>\n",
       "    <tr>\n",
       "      <th>0</th>\n",
       "      <td>Donald Trump Sends Out Embarrassing New Year’...</td>\n",
       "      <td>Donald Trump just couldn t wish all Americans ...</td>\n",
       "      <td>1</td>\n",
       "    </tr>\n",
       "    <tr>\n",
       "      <th>1</th>\n",
       "      <td>Drunk Bragging Trump Staffer Started Russian ...</td>\n",
       "      <td>House Intelligence Committee Chairman Devin Nu...</td>\n",
       "      <td>1</td>\n",
       "    </tr>\n",
       "    <tr>\n",
       "      <th>2</th>\n",
       "      <td>Sheriff David Clarke Becomes An Internet Joke...</td>\n",
       "      <td>On Friday, it was revealed that former Milwauk...</td>\n",
       "      <td>1</td>\n",
       "    </tr>\n",
       "    <tr>\n",
       "      <th>3</th>\n",
       "      <td>Trump Is So Obsessed He Even Has Obama’s Name...</td>\n",
       "      <td>On Christmas day, Donald Trump announced that ...</td>\n",
       "      <td>1</td>\n",
       "    </tr>\n",
       "    <tr>\n",
       "      <th>4</th>\n",
       "      <td>Pope Francis Just Called Out Donald Trump Dur...</td>\n",
       "      <td>Pope Francis used his annual Christmas Day mes...</td>\n",
       "      <td>1</td>\n",
       "    </tr>\n",
       "    <tr>\n",
       "      <th>...</th>\n",
       "      <td>...</td>\n",
       "      <td>...</td>\n",
       "      <td>...</td>\n",
       "    </tr>\n",
       "    <tr>\n",
       "      <th>6330</th>\n",
       "      <td>State Department says it can't find emails fro...</td>\n",
       "      <td>The State Department told the Republican Natio...</td>\n",
       "      <td>0</td>\n",
       "    </tr>\n",
       "    <tr>\n",
       "      <th>6331</th>\n",
       "      <td>The ‘P’ in PBS Should Stand for ‘Plutocratic’ ...</td>\n",
       "      <td>The ‘P’ in PBS Should Stand for ‘Plutocratic’ ...</td>\n",
       "      <td>1</td>\n",
       "    </tr>\n",
       "    <tr>\n",
       "      <th>6332</th>\n",
       "      <td>Anti-Trump Protesters Are Tools of the Oligarc...</td>\n",
       "      <td>Anti-Trump Protesters Are Tools of the Oligar...</td>\n",
       "      <td>1</td>\n",
       "    </tr>\n",
       "    <tr>\n",
       "      <th>6333</th>\n",
       "      <td>In Ethiopia, Obama seeks progress on peace, se...</td>\n",
       "      <td>ADDIS ABABA, Ethiopia —President Obama convene...</td>\n",
       "      <td>0</td>\n",
       "    </tr>\n",
       "    <tr>\n",
       "      <th>6334</th>\n",
       "      <td>Jeb Bush Is Suddenly Attacking Trump. Here's W...</td>\n",
       "      <td>Jeb Bush Is Suddenly Attacking Trump. Here's W...</td>\n",
       "      <td>0</td>\n",
       "    </tr>\n",
       "  </tbody>\n",
       "</table>\n",
       "<p>51713 rows × 3 columns</p>\n",
       "</div>"
      ],
      "text/plain": [
       "                                                  title  \\\n",
       "0      Donald Trump Sends Out Embarrassing New Year’...   \n",
       "1      Drunk Bragging Trump Staffer Started Russian ...   \n",
       "2      Sheriff David Clarke Becomes An Internet Joke...   \n",
       "3      Trump Is So Obsessed He Even Has Obama’s Name...   \n",
       "4      Pope Francis Just Called Out Donald Trump Dur...   \n",
       "...                                                 ...   \n",
       "6330  State Department says it can't find emails fro...   \n",
       "6331  The ‘P’ in PBS Should Stand for ‘Plutocratic’ ...   \n",
       "6332  Anti-Trump Protesters Are Tools of the Oligarc...   \n",
       "6333  In Ethiopia, Obama seeks progress on peace, se...   \n",
       "6334  Jeb Bush Is Suddenly Attacking Trump. Here's W...   \n",
       "\n",
       "                                                   text  label  \n",
       "0     Donald Trump just couldn t wish all Americans ...      1  \n",
       "1     House Intelligence Committee Chairman Devin Nu...      1  \n",
       "2     On Friday, it was revealed that former Milwauk...      1  \n",
       "3     On Christmas day, Donald Trump announced that ...      1  \n",
       "4     Pope Francis used his annual Christmas Day mes...      1  \n",
       "...                                                 ...    ...  \n",
       "6330  The State Department told the Republican Natio...      0  \n",
       "6331  The ‘P’ in PBS Should Stand for ‘Plutocratic’ ...      1  \n",
       "6332   Anti-Trump Protesters Are Tools of the Oligar...      1  \n",
       "6333  ADDIS ABABA, Ethiopia —President Obama convene...      0  \n",
       "6334  Jeb Bush Is Suddenly Attacking Trump. Here's W...      0  \n",
       "\n",
       "[51713 rows x 3 columns]"
      ]
     },
     "execution_count": 135,
     "metadata": {},
     "output_type": "execute_result"
    }
   ],
   "source": [
    "combine_all = [fake_cleaned, real_cleaned, num_cleaned, text_cleaned]\n",
    "final_df = pd.concat(combine_all)\n",
    "final_df"
   ]
  },
  {
   "cell_type": "markdown",
   "id": "cd45ba0d",
   "metadata": {},
   "source": [
    "## Creating a Bag of Words"
   ]
  },
  {
   "cell_type": "markdown",
   "id": "28d42769",
   "metadata": {},
   "source": [
    "We also need to create a bag of words to act as our training data, but we have to clean and process the actual bodies of text first."
   ]
  },
  {
   "cell_type": "markdown",
   "id": "fe21c78e",
   "metadata": {},
   "source": [
    "### Preprocessing the text\n",
    "Techniques we will do:\n",
    "* Make each letter of everyword lowercase so that words like \"Crazy\" and \"crazy\" count as the same word.\n",
    "* Remove stopwords since they don't bring any value in modeling. (We found a list of English stopwords from the nltk package and used that to figure out which words to delete.\n",
    "* Remove characters we don't need"
   ]
  },
  {
   "cell_type": "code",
   "execution_count": 136,
   "id": "1cd0b17c",
   "metadata": {
    "scrolled": true
   },
   "outputs": [
    {
     "name": "stdout",
     "output_type": "stream",
     "text": [
      "                                                  title  \\\n",
      "0      Donald Trump Sends Out Embarrassing New Year’...   \n",
      "1      Drunk Bragging Trump Staffer Started Russian ...   \n",
      "2      Sheriff David Clarke Becomes An Internet Joke...   \n",
      "3      Trump Is So Obsessed He Even Has Obama’s Name...   \n",
      "4      Pope Francis Just Called Out Donald Trump Dur...   \n",
      "...                                                 ...   \n",
      "6330  State Department says it can't find emails fro...   \n",
      "6331  The ‘P’ in PBS Should Stand for ‘Plutocratic’ ...   \n",
      "6332  Anti-Trump Protesters Are Tools of the Oligarc...   \n",
      "6333  In Ethiopia, Obama seeks progress on peace, se...   \n",
      "6334  Jeb Bush Is Suddenly Attacking Trump. Here's W...   \n",
      "\n",
      "                                                   text  label  \n",
      "0     donald trump just couldn t wish all americans ...      1  \n",
      "1     house intelligence committee chairman devin nu...      1  \n",
      "2     on friday, it was revealed that former milwauk...      1  \n",
      "3     on christmas day, donald trump announced that ...      1  \n",
      "4     pope francis used his annual christmas day mes...      1  \n",
      "...                                                 ...    ...  \n",
      "6330  the state department told the republican natio...      0  \n",
      "6331  the ‘p’ in pbs should stand for ‘plutocratic’ ...      1  \n",
      "6332  anti-trump protesters are tools of the oligarc...      1  \n",
      "6333  addis ababa, ethiopia —president obama convene...      0  \n",
      "6334  jeb bush is suddenly attacking trump. here's w...      0  \n",
      "\n",
      "[51713 rows x 3 columns]\n"
     ]
    }
   ],
   "source": [
    "# make words lowercase\n",
    "final_df['text'] =  [str(x).lower() for x in final_df['text']]\n",
    "\n",
    "# format words and remove unwanted chatacters\n",
    "final_df['text'] =  [re.sub(r\"@\\S+\", \"\",a) for a in final_df['text']] # removing @ or mentions\n",
    "final_df['text'] =  [re.sub(\"http[s]?\\://\\S+\",\"\",b) for b in final_df['text']] # removing urls\n",
    "final_df['text'] =  [re.sub(r\"[0-9]\", \"\",c) for c in final_df['text']] # removing numbers\n",
    "final_df['text'] =  [re.sub(r\"\\n\", \"\",d) for d in final_df['text']] # removing newlines or tabs\n",
    "final_df['text'] =  [re.sub(r\"(\\(.*\\))|(\\[.*\\])\", \"\",x) for x in final_df['text']] # removing text in brackets or parentheses\n",
    "final_df['text'] =  [re.sub('\\s+',\" \",e) for e in final_df['text']] # removing extra space\n",
    "\n",
    "final_df['text'] = final_df['text'].apply(lambda x: ' '.join([word for word in str(x).split() if word not in (stopwords)]))\n",
    "print (final_df)"
   ]
  },
  {
   "cell_type": "markdown",
   "id": "638d77d2",
   "metadata": {},
   "source": [
    "Note: We tried using nltk, but had a lot of trouble getting jupyter notebook to recognized that we had already downloaded the module. Instead, we found a list of english stopwords on github we will be using(https://gist.github.com/sebleier/554280)."
   ]
  },
  {
   "cell_type": "code",
   "execution_count": 137,
   "id": "4ac45036",
   "metadata": {},
   "outputs": [
    {
     "data": {
      "text/html": [
       "<div>\n",
       "<style scoped>\n",
       "    .dataframe tbody tr th:only-of-type {\n",
       "        vertical-align: middle;\n",
       "    }\n",
       "\n",
       "    .dataframe tbody tr th {\n",
       "        vertical-align: top;\n",
       "    }\n",
       "\n",
       "    .dataframe thead th {\n",
       "        text-align: right;\n",
       "    }\n",
       "</style>\n",
       "<table border=\"1\" class=\"dataframe\">\n",
       "  <thead>\n",
       "    <tr style=\"text-align: right;\">\n",
       "      <th></th>\n",
       "      <th>title</th>\n",
       "      <th>text</th>\n",
       "      <th>label</th>\n",
       "      <th>clean_text</th>\n",
       "    </tr>\n",
       "  </thead>\n",
       "  <tbody>\n",
       "    <tr>\n",
       "      <th>0</th>\n",
       "      <td>Donald Trump Sends Out Embarrassing New Year’...</td>\n",
       "      <td>donald trump just couldn t wish all americans ...</td>\n",
       "      <td>1</td>\n",
       "      <td>donald trump just couldn t wish all americans ...</td>\n",
       "    </tr>\n",
       "    <tr>\n",
       "      <th>1</th>\n",
       "      <td>Drunk Bragging Trump Staffer Started Russian ...</td>\n",
       "      <td>house intelligence committee chairman devin nu...</td>\n",
       "      <td>1</td>\n",
       "      <td>house intelligence committee chairman devin nu...</td>\n",
       "    </tr>\n",
       "    <tr>\n",
       "      <th>2</th>\n",
       "      <td>Sheriff David Clarke Becomes An Internet Joke...</td>\n",
       "      <td>on friday, it was revealed that former milwauk...</td>\n",
       "      <td>1</td>\n",
       "      <td>on friday, it was revealed that former milwauk...</td>\n",
       "    </tr>\n",
       "    <tr>\n",
       "      <th>3</th>\n",
       "      <td>Trump Is So Obsessed He Even Has Obama’s Name...</td>\n",
       "      <td>on christmas day, donald trump announced that ...</td>\n",
       "      <td>1</td>\n",
       "      <td>on christmas day, donald trump announced that ...</td>\n",
       "    </tr>\n",
       "    <tr>\n",
       "      <th>4</th>\n",
       "      <td>Pope Francis Just Called Out Donald Trump Dur...</td>\n",
       "      <td>pope francis used his annual christmas day mes...</td>\n",
       "      <td>1</td>\n",
       "      <td>pope francis used his annual christmas day mes...</td>\n",
       "    </tr>\n",
       "  </tbody>\n",
       "</table>\n",
       "</div>"
      ],
      "text/plain": [
       "                                               title  \\\n",
       "0   Donald Trump Sends Out Embarrassing New Year’...   \n",
       "1   Drunk Bragging Trump Staffer Started Russian ...   \n",
       "2   Sheriff David Clarke Becomes An Internet Joke...   \n",
       "3   Trump Is So Obsessed He Even Has Obama’s Name...   \n",
       "4   Pope Francis Just Called Out Donald Trump Dur...   \n",
       "\n",
       "                                                text  label  \\\n",
       "0  donald trump just couldn t wish all americans ...      1   \n",
       "1  house intelligence committee chairman devin nu...      1   \n",
       "2  on friday, it was revealed that former milwauk...      1   \n",
       "3  on christmas day, donald trump announced that ...      1   \n",
       "4  pope francis used his annual christmas day mes...      1   \n",
       "\n",
       "                                          clean_text  \n",
       "0  donald trump just couldn t wish all americans ...  \n",
       "1  house intelligence committee chairman devin nu...  \n",
       "2  on friday, it was revealed that former milwauk...  \n",
       "3  on christmas day, donald trump announced that ...  \n",
       "4  pope francis used his annual christmas day mes...  "
      ]
     },
     "execution_count": 137,
     "metadata": {},
     "output_type": "execute_result"
    }
   ],
   "source": [
    "import numpy as np\n",
    "import re\n",
    "\n",
    "stopwords = pd.read_csv(\"NLTK's list of english stopwords\")\n",
    "    \n",
    "final_df['clean_text'] = list(final_df.text)\n",
    "final_df.head()"
   ]
  },
  {
   "cell_type": "code",
   "execution_count": 139,
   "id": "440b4b2b",
   "metadata": {
    "scrolled": true
   },
   "outputs": [],
   "source": [
    "from sklearn.feature_extraction.text import CountVectorizer\n",
    "\n",
    " \n",
    "vectorizer = CountVectorizer(analyzer='word', token_pattern=r'\\w+')\n",
    "\n",
    "text_arr = np.array(final_df['clean_text'])\n",
    "\n",
    "# final_df.head()\n",
    "\n",
    "# make a bag of words\n",
    "bag = vectorizer.fit_transform(text_arr)\n",
    "# print (bag)"
   ]
  },
  {
   "cell_type": "markdown",
   "id": "36af7e4b",
   "metadata": {},
   "source": [
    "## Machine Learning"
   ]
  },
  {
   "cell_type": "markdown",
   "id": "b16da415",
   "metadata": {},
   "source": [
    "Now that all of our data is cleaned up, and we have a bag of words, we can move on to training a machine learning algorithm and later analyzing its accuracy."
   ]
  },
  {
   "cell_type": "markdown",
   "id": "5baab7da",
   "metadata": {},
   "source": [
    "To begin, we first define our features X, which we use to predict, and the label Y, which we try to predict.\n",
    "In this case, we could determine whether or not an article is fake news based on the title and content."
   ]
  },
  {
   "cell_type": "code",
   "execution_count": 141,
   "id": "4d256468",
   "metadata": {},
   "outputs": [
    {
     "name": "stdout",
     "output_type": "stream",
     "text": [
      "0    donald trump just couldn t wish all americans ...\n",
      "1    house intelligence committee chairman devin nu...\n",
      "2    on friday, it was revealed that former milwauk...\n",
      "3    on christmas day, donald trump announced that ...\n",
      "4    pope francis used his annual christmas day mes...\n",
      "Name: clean_text, dtype: object\n"
     ]
    }
   ],
   "source": [
    "# We are only keeping 'text' & 'title' because they are what we are using to predict the label\n",
    "X = final_df['clean_text']\n",
    "\n",
    "Y = final_df['label']\n",
    "print (X.head())"
   ]
  },
  {
   "cell_type": "markdown",
   "id": "66123e87",
   "metadata": {},
   "source": [
    "Here, we followed a tutorial to extract the features after tokenizing the words. We made another method to keep it clean."
   ]
  },
  {
   "cell_type": "code",
   "execution_count": 166,
   "id": "9cce100a",
   "metadata": {},
   "outputs": [],
   "source": [
    "def extract_features(df,training_data,testing_data):\n",
    "     \n",
    "        # TF-IDF BASED FEATURE REPRESENTATION\n",
    "        tfidf=TfidfVectorizer(use_idf=True, max_df=0.95)\n",
    "        xx = tfidf.fit_transform(training_data.values)\n",
    "        terms = tfidf.get_feature_names_out()\n",
    "\n",
    "        # sum tfidf frequency of each term through documents\n",
    "        sums = xx.sum(axis=0)\n",
    "\n",
    "        # connecting term to its sums frequency\n",
    "        data = []\n",
    "        for col, term in enumerate(terms):\n",
    "            if term not in stop and term != ' ':\n",
    "                data.append((term, sums[0,col] ))\n",
    "\n",
    "        ranking = pd.DataFrame(data, columns=['term','rank'])\n",
    "        print(ranking.sort_values('rank', ascending=False))\n",
    "        \n",
    "        train_feature_set=tfidf.transform(training_data.values)\n",
    "        test_feature_set=tfidf.transform(testing_data.values)\n",
    "\n",
    "        return train_feature_set,test_feature_set,tfidf_vectorizer"
   ]
  },
  {
   "cell_type": "markdown",
   "id": "057735b1",
   "metadata": {},
   "source": [
    "Now we will divide the dataset into training / testing parts. We will use the training dataset to train our model to make predictions, in this whether or not an article is fake news. Then, we will use the testing set to see how our model performed.\n",
    "\n",
    "We will also be setting the random_state so that everytime the code is run, we will end up with the exact same split."
   ]
  },
  {
   "cell_type": "code",
   "execution_count": 167,
   "id": "40e89847",
   "metadata": {
    "scrolled": true
   },
   "outputs": [
    {
     "name": "stdout",
     "output_type": "stream",
     "text": [
      "[0 0 0 ... 1 1 1]\n",
      "13101    berlin - police raided apartments across germa...\n",
      "17193    beijing - china will let the market play a dec...\n",
      "15291    beijing - u.s. secretary of state rex tillerso...\n",
      "513      in house speaker paul ryan s ayn randish views...\n",
      "3803     washington - former director of national intel...\n",
      "                               ...                        \n",
      "5014     when you think of civil rights activists, it s...\n",
      "19266    zurich from previous tests. korean peninsula u...\n",
      "22584    tune in to the alternate current radio network...\n",
      "501      white house counselor kellyanne conway crawled...\n",
      "20828    every parent in the united states of america s...\n",
      "Name: clean_text, Length: 38784, dtype: object\n",
      "               term         rank\n",
      "83874         trump  1661.447639\n",
      "70961          said  1247.743570\n",
      "63580     president   707.585053\n",
      "14674       clinton   630.117338\n",
      "60741        people   538.604733\n",
      "...             ...          ...\n",
      "64836       punting     0.008568\n",
      "14806        clover     0.008568\n",
      "24563        elmore     0.008568\n",
      "8183   birkenstocks     0.008568\n",
      "68732     retrofits     0.008568\n",
      "\n",
      "[93080 rows x 2 columns]\n"
     ]
    }
   ],
   "source": [
    "from sklearn.model_selection import train_test_split\n",
    "from sklearn.feature_extraction.text import TfidfVectorizer\n",
    "from sklearn.feature_extraction import text\n",
    "stop = text.ENGLISH_STOP_WORDS\n",
    "\n",
    "# GET A TRAIN TEST SPLIT (set seed for consistent results)\n",
    "training_data, testing_data = train_test_split(final_df,random_state = 9)\n",
    "# GET LABELS\n",
    "training_pred = training_data['label'].values\n",
    "testing_pred = testing_data['label'].values\n",
    "print (training_pred)\n",
    "training_data, testing_data = train_test_split(final_df.clean_text,random_state = 9)\n",
    "print (training_data)\n",
    "\n",
    "X_train,X_test,feature_transformer=extract_features(final_df,training_data,testing_data)"
   ]
  },
  {
   "cell_type": "markdown",
   "id": "b69d9eeb",
   "metadata": {},
   "source": [
    "We will be using a Logistic Regression classifier for this model."
   ]
  },
  {
   "cell_type": "code",
   "execution_count": 145,
   "id": "b2731e37",
   "metadata": {},
   "outputs": [],
   "source": [
    "from sklearn.linear_model import LogisticRegression\n",
    "\n",
    "lr = LogisticRegression(solver='saga',random_state=0, C=5, penalty='l2',max_iter=5000)\n",
    "model = lr.fit(X_train,training_pred)"
   ]
  },
  {
   "cell_type": "code",
   "execution_count": 146,
   "id": "f042bc1b",
   "metadata": {},
   "outputs": [],
   "source": [
    "prediction = lr.predict(X_test)"
   ]
  },
  {
   "cell_type": "code",
   "execution_count": 147,
   "id": "e52eed36",
   "metadata": {},
   "outputs": [
    {
     "name": "stdout",
     "output_type": "stream",
     "text": [
      "LogisticRegression Accuracy 0.960\n"
     ]
    }
   ],
   "source": [
    "from sklearn import metrics\n",
    "\n",
    "# measure the accuracy\n",
    "print(\"LogisticRegression Accuracy %.3f\" %metrics.accuracy_score(testing_pred, prediction))"
   ]
  },
  {
   "cell_type": "markdown",
   "id": "cd81d3f0",
   "metadata": {},
   "source": [
    "WOWOW OUR MODEL WAS 97% ACCURATE"
   ]
  },
  {
   "cell_type": "code",
   "execution_count": 38,
   "id": "3f8a8f2c",
   "metadata": {},
   "outputs": [],
   "source": [
    "import matplotlib.pyplot as plt\n",
    "def plot_confusion_matrix(cm, classes,\n",
    "                          normalize=False,\n",
    "                          title='Confusion matrix',\n",
    "                          cmap=plt.cm.Blues):\n",
    "    plt.imshow(cm, interpolation='nearest', cmap=cmap)\n",
    "    plt.title(title)\n",
    "    plt.colorbar()\n",
    "    tick_marks = np.arange(len(classes))\n",
    "    plt.xticks(tick_marks, classes, rotation=45)\n",
    "    plt.yticks(tick_marks, classes)\n",
    "\n",
    "    print('Confusion matrix, without normalization')\n",
    "    thresh = cm.max() / 2.\n",
    "    for i, j in itertools.product(range(cm.shape[0]), range(cm.shape[1])):\n",
    "        plt.text(j, i, cm[i, j],\n",
    "                 horizontalalignment=\"center\",\n",
    "                 color=\"white\" if cm[i, j] > thresh else \"black\")\n",
    "    plt.tight_layout()\n",
    "    plt.ylabel('True label')\n",
    "    plt.xlabel('Predicted label')"
   ]
  }
 ],
 "metadata": {
  "kernelspec": {
   "display_name": "Python 3 (ipykernel)",
   "language": "python",
   "name": "python3"
  },
  "language_info": {
   "codemirror_mode": {
    "name": "ipython",
    "version": 3
   },
   "file_extension": ".py",
   "mimetype": "text/x-python",
   "name": "python",
   "nbconvert_exporter": "python",
   "pygments_lexer": "ipython3",
   "version": "3.10.6"
  }
 },
 "nbformat": 4,
 "nbformat_minor": 5
}
